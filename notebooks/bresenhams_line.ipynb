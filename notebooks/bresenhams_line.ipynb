
from graphics import *
from math import floor

win = GraphWin('Bresenham line',600,600)
win.setBackground(color_rgb(250,200,0))

label = Text(Point(250,50),"Click two points to draw a line ")
label.setSize(20)
label.draw(win) 

def bresenhamLine(xa,ya,xb,yb):
    x = xa
    y = ya
    dx = xb - xa
    dy = yb - ya
    dT = 2*(dy - dx)
    dS = 2*dy 
    d = 2*dy - dx 
    # we draw our initial point here
    pt = Point(x,y)
    pt.setFill('green')
    pt.draw(win)

    while x < xb: 
        x+=1
        if d<0: 
            d = d+dS
        else: 
            y +=1
            d = d + dT
    
        pt = Point(x,y)
        pt.draw(win)
        pt.setFill('red')

        time.sleep(0.05)

if __name__ =="__main__":
    #draw line 
    while True:
        #  get x and y coordinate from mouse 
        click = win.getMouse()
        xinitial = click.getX()
        yinitial = click.getY()

        secondclick = win.getMouse()
        xfinal = secondclick.getX()
        yfinal = secondclick.getY()
        bresenhamLine(xinitial,yinitial,xfinal,yfinal)