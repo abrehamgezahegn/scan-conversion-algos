
from graphics import *
from math import *

win = GraphWin('Normal line drawing Algorithm',600,600)
win.setBackground(color_rgb(250,200,0))

label = Text(Point(150,50),"click two points ")
label.setSize(20)
label.draw(win) 

def drawLine(x1,y1,x2,y2):
        #calculate the slope
        m = (y2 - y1) / (x2 - x1)
        #calculate the shift constant b 
        b = y1 - m * x1

        #scan convert each initial end and start point
        x1 = floor(x1 + 0.5)
        x2 = floor(x2 + 0.5)
        y1 = floor(y1 + 0.5)
        y2 = floor(y2 + 0.5)

        #draw the initial and final point
        pt = Point(x1,y1)
        pt2 = Point(x2,y2)
        pt.draw(win)
        pt2.draw(win)

    
        while x1<=x2:
            y1 = m*x1 + b 
            y1 = floor(y1 + 0.5)
            pt = Point(x1,y1)
            pt.draw(win)
            pt.setFill("red")
            x1 += 1

def main():
    while True:
        #listen for a mouse click
        click = win.getMouse()
        #get the x coordinate for the first click
        xinitial = click.getX()
        #get the y coordinate for the first click
        yinitial = click.getY()

        #listen for the second mouse click
        secondclick = win.getMouse()
        #get the x coordinate for the second click
        xfinal = secondclick.getX()
        #get the x coordinate for the second click
        yfinal = secondclick.getY()

        print(xinitial,yinitial ,xfinal,yfinal)

        #calls the function to draw the line
        drawLine(xinitial,yinitial,xfinal , yfinal )

        while False:
            win.getMouse()
            win.close()

if __name__ =="__main__":
    main()